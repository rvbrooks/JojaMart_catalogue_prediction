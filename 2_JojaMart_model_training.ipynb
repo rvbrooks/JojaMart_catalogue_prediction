{
 "cells": [
  {
   "cell_type": "markdown",
   "metadata": {},
   "source": [
    "# JojaMart Catalogue Challenge (Notebook 2 of 2)\n",
    "\n",
    "### <span style=\"color:orange\">Find more of my work [here on GitHub](https://github.com/rvbrooks)!</span>\n",
    "\n",
    "In notebook 1, I demonstrated EDA of JojaMart's data.\n",
    "\n",
    "Now, I work through selecting a model to predict which products JojaMart will discontinue.\n",
    "\n",
    "1. I test a simple Logistic Regression model\n",
    "2. I train a more complex Random Forest model\n",
    "3. I wrap the trained model into a data pipeline for JojaMart.\n"
   ]
  },
  {
   "cell_type": "code",
   "execution_count": 1,
   "metadata": {},
   "outputs": [],
   "source": [
    "import pandas as pd\n",
    "import matplotlib.pyplot as plt\n",
    "import numpy as np\n",
    "import seaborn as sns\n",
    "\n",
    "catalogue_discontinuation = pd.read_csv(\"datasheet_1.csv\") \n",
    "product_details = pd.read_csv(\"datasheet_2.csv\")\n",
    "df = pd.merge(catalogue_discontinuation, product_details, how=\"inner\", on=\"ProductKey\")"
   ]
  },
  {
   "cell_type": "markdown",
   "metadata": {},
   "source": [
    "### 4. Model Selection\n",
    "#### 4.a: Simple Logistic Regression Model\n",
    "\n",
    "Since this is a binary classification problem, I will start by trying a simple logistic regression model, which I know to be a relatively **simple and computationally light** model (compared to some others e.g. neural nets).\n",
    "\n",
    "I will use the scikit-learn (sklearn) machine learning library here.\n",
    "\n",
    "Logistic regression is a supervised learning model: I will use the \"DiscontinuedTF\" column as the target variable for training, and the remaining columns of the dataframe as the features."
   ]
  },
  {
   "cell_type": "markdown",
   "metadata": {},
   "source": [
    "Then I need to split the dataframe in to a training set and a test set, which I do using sklearn's train_test_split functionality. I choose to split 30% of my data into a test set. \n",
    "\n",
    "Note that since we have 3.6 million samples I choose not to use k-fold cross-validation (CV) here - it's computationally expensive for that many samples. Since there are so many samples, I expect that k-fold CV is not necessary (later, I use OOB evaluation instead)."
   ]
  },
  {
   "cell_type": "code",
   "execution_count": 10,
   "metadata": {},
   "outputs": [],
   "source": [
    "from sklearn.model_selection import train_test_split\n",
    "\n",
    "y = df[\"DiscontinuedTF\"]   # Define my target variable column y\n",
    "X = df.drop([\"DiscontinuedTF\"], axis=1) # Define my matrix of feature variables X={x1, x2, ...}\n",
    "\n",
    "X_train, X_test, y_train, y_test = train_test_split(X, y, test_size=0.3, random_state=1)"
   ]
  },
  {
   "cell_type": "markdown",
   "metadata": {},
   "source": [
    "With the data split into train and test sets, I can now fit the model:"
   ]
  },
  {
   "cell_type": "code",
   "execution_count": 11,
   "metadata": {},
   "outputs": [
    {
     "name": "stdout",
     "output_type": "stream",
     "text": [
      "[[636526 393430]\n",
      " [ 19264  38478]]\n",
      "The accuracy is 0.6205803449119149\n",
      "The recall is 0.6663780263932666\n",
      "The precision is 0.0890884169776897\n",
      "The ROC AUC score is : 0.6421954173537041\n"
     ]
    }
   ],
   "source": [
    "from sklearn.linear_model import LogisticRegression\n",
    "from sklearn.metrics import accuracy_score, confusion_matrix, precision_score, recall_score, roc_auc_score\n",
    "\n",
    "lr_model = LogisticRegression()\n",
    "\n",
    "lr_model.fit(X_train, y_train)\n",
    "y_pred = lr_model.predict(X_test)\n",
    "\n",
    "\n",
    "def print_classifier_scores(y_pred, y_test):\n",
    "    \"\"\"\n",
    "    Convenience function for printing multiple classification metrics at once\n",
    "    ---\n",
    "    Inputs: \n",
    "        - predicted labels\n",
    "        - actual labels:\n",
    "    Returns:\n",
    "        - None\n",
    "        - (Prints scoring metrics)\n",
    "    \"\"\"\n",
    "    print(confusion_matrix(y_pred, y_test))\n",
    "    print(\"The accuracy is {}\".format(accuracy_score(y_pred, y_test)))\n",
    "    print(\"The recall is {}\".format(recall_score(y_pred, y_test)))\n",
    "    print(\"The precision is {}\".format(precision_score(y_pred, y_test)))\n",
    "\n",
    "print_classifier_scores(y_pred, y_test)\n",
    "\n",
    "auc = roc_auc_score(y_pred, y_test)  # ROC curve is true positive rate vs false positive rate as decision surface is varied\n",
    "\n",
    "print(\"The ROC AUC score is : {}\".format(auc)) "
   ]
  },
  {
   "cell_type": "markdown",
   "metadata": {},
   "source": [
    "The accuracy of this model is 62% - this is not particularly good. From the confusion matrix, it is apparent that the reason is due to the high number of False Negatives being predicted, that is, many products which are actually discontinued are incorrectly being predicted as *not* discontinued - i.e. the precision is low.\n",
    "\n",
    "Furthermore the AUC score, which computes the area under the ROC curve is ~0.64, which is considered a poor score.\n",
    "\n",
    "This suggests the model is **insufficiently complex**, and therefore has a high bias (underfitting). I will test out a more complex model to see how that compares."
   ]
  },
  {
   "cell_type": "markdown",
   "metadata": {},
   "source": [
    "#### 4. b: More Complex Random Forest Model\n",
    "\n",
    "Since the logistic regression didn't return a great efficiency, I will try a more complex model which may be able to capture the data better. \n",
    "\n",
    "I will try a Random Forest, since I know it is a great model in general, due to its flexibility and ability to be trained on a mix of categorical and continuous data. It is also insensitive to feature scaling.\n",
    "\n",
    "I will use the Gini coefficient to calculate the information gain when constructing the decision trees. This is because it tends to be computationally faster than alternatives like the entropy, which is appreciated by my laptop."
   ]
  },
  {
   "cell_type": "code",
   "execution_count": 12,
   "metadata": {},
   "outputs": [
    {
     "name": "stdout",
     "output_type": "stream",
     "text": [
      "35.1632295\n",
      "[[611300  39085]\n",
      " [ 44490 392823]]\n",
      "The accuracy is 0.9231634148449294\n",
      "The recall is 0.898265087020052\n",
      "The precision is 0.9095061911332969\n"
     ]
    }
   ],
   "source": [
    "from sklearn.ensemble import RandomForestClassifier\n",
    "import timeit\n",
    "\n",
    "import warnings    # Ignore some warnings which are raised by sklearn when fitting Random Forests\n",
    "warnings.simplefilter('ignore', UserWarning)\n",
    "warnings.simplefilter('ignore', RuntimeWarning)\n",
    "\n",
    "\n",
    "rf_model= RandomForestClassifier(n_estimators = 10, max_depth = 10, criterion = \"gini\", oob_score = True, random_state=1) \n",
    "\n",
    "start_time = timeit.default_timer()\n",
    "\n",
    "rf_model.fit(X_train, y_train)\n",
    "\n",
    "elapsed = timeit.default_timer() - start_time\n",
    "\n",
    "print(elapsed)\n",
    "\n",
    "y_pred = rf_model.predict(X_test)\n",
    "\n",
    "print_classifier_scores(y_pred, y_test)"
   ]
  },
  {
   "cell_type": "markdown",
   "metadata": {},
   "source": [
    "From now on, I'll use the OOB (out-of-bag) score to evaluate the Random Forest model on unseen data. This saves computational time compared to k-fold cross-validation, by using the data that wasn't selected for the bootstrapped sample as the test set.\n",
    "\n",
    "\n"
   ]
  },
  {
   "cell_type": "code",
   "execution_count": 13,
   "metadata": {},
   "outputs": [
    {
     "name": "stdout",
     "output_type": "stream",
     "text": [
      "0.9165219638914861\n"
     ]
    }
   ],
   "source": [
    "print(rf_model.oob_score_)"
   ]
  },
  {
   "cell_type": "markdown",
   "metadata": {},
   "source": [
    "The OOB score is similar to the test set prediction score.\n",
    "\n",
    "The more complex Random Forest model has an accuracy of ~92%, which is a significant improvement compared to the logistic regression model!\n",
    "\n",
    "This looks like the way forwards, so I will focus on optimising the random forest.\n"
   ]
  },
  {
   "cell_type": "markdown",
   "metadata": {},
   "source": [
    "### 5. Random Forest Model Optimisation\n",
    "\n",
    "Now, the goal will be to improve the performance of the Random Forest model via hyperparameter tuning, and feature engineering.\n",
    "\n",
    "#### 5.a Feature Importance and Feature Re-Engineering\n",
    "\n",
    "Usefully, sklearn's RandomForestClassifier calculates the importance of all the features in the model by recording how often they were all used to determine the information gain at each split of the decision trees in the forest. \n",
    "\n",
    "I can examine this information, and use it to eliminate uninformative features, thus speeding up my subsequent model optimisation."
   ]
  },
  {
   "cell_type": "code",
   "execution_count": 14,
   "metadata": {},
   "outputs": [
    {
     "data": {
      "image/png": "[encoded data removed]",
      "text/plain": [
       "<Figure size 432x288 with 2 Axes>"
      ]
     },
     "metadata": {
      "needs_background": "light"
     },
     "output_type": "display_data"
    }
   ],
   "source": [
    "importances = pd.Series(rf_model.feature_importances_, index = X.columns)\n",
    "importances = importances.sort_values()\n",
    "\n",
    "\n",
    "fig, axes = plt.subplots(nrows=1, ncols=2)\n",
    "importances.plot(kind=\"barh\", ylabel = \"Importance\", ax = axes[0])\n",
    "importances.plot(kind=\"barh\", logx=True)  # Log scale gives idea of order of magnitude differences.\n",
    "\n",
    "axes[0].set_xlabel('Feature Importance')\n",
    "axes[1].set_yticklabels([])\n",
    "axes[1].set_xlabel('Feature Importance (Log Scale)')\n",
    "\n",
    "plt.show()                                "
   ]
  },
  {
   "cell_type": "markdown",
   "metadata": {},
   "source": [
    "This plot of feature importances is useful and in some cases surprising:\n",
    "\n",
    "1. Status is a strong predictor as expected. I believe it's acceptable to use this in the training of the model because for the future catalogue we will be able to see if a product has been marked for discontinuation or not.\n",
    "2. Forecast per week and Actuals per week are similar -> I expect they are correlated. However, random forest is pretty good for preventing against this kind of issue.\n",
    "3. CatEdition is a surprisingly strong predictor. This is **bad** because the model has essentially been trained on a useless number - we care about the *next* catalogue.\n",
    "4. Surprisingly, seasonality is *not* a good predictor of if a line will be discontinued. I thought it would be more important.\n",
    "\n",
    "\n",
    "Going forwards, **it is clear that \"CatEdition\" should be dropped**, since:\n",
    "* The model has clearly learned to use CatEdition to predict\n",
    "* CatEdition is not an available variable for prediction of future catalogues \n",
    "    * I believe the training on CatEdition is a case of **leakage**, so it must be dropped.\n",
    "    * Since there aren't many features, I won't eliminate any remaing features or engineer any."
   ]
  },
  {
   "cell_type": "code",
   "execution_count": 15,
   "metadata": {},
   "outputs": [],
   "source": [
    "X = X.drop([\"CatEdition\"], axis=1)\n",
    "\n",
    "X.columns\n",
    "\n",
    "# Define the training and holdout sets\n",
    "X_train, X_holdout, y_train, y_holdout = train_test_split(X, y, test_size=0.3, random_state=1)\n"
   ]
  },
  {
   "cell_type": "markdown",
   "metadata": {},
   "source": [
    "Note that I have defined a training set (70%) and a *holdout* set (30%). \n",
    "\n",
    "Since I am using OOB evaluation, I don't need to explicitly partition a test set of data. The holdout data set will be used after the model's hyperparameters have been tuned, and will be used to estimate the final model's generalisation accuracy.\n",
    "\n",
    "\n",
    "#### 5.b Hyperparameter Tuning\n",
    "\n",
    "Now to optimise the model I will tune some important hyperparameters of the random forest. The hyperparameters available to me to tune are as follows:"
   ]
  },
  {
   "cell_type": "code",
   "execution_count": 16,
   "metadata": {},
   "outputs": [
    {
     "data": {
      "text/plain": [
       "{'bootstrap': True,\n",
       " 'ccp_alpha': 0.0,\n",
       " 'class_weight': None,\n",
       " 'criterion': 'gini',\n",
       " 'max_depth': None,\n",
       " 'max_features': 'auto',\n",
       " 'max_leaf_nodes': None,\n",
       " 'max_samples': None,\n",
       " 'min_impurity_decrease': 0.0,\n",
       " 'min_impurity_split': None,\n",
       " 'min_samples_leaf': 1,\n",
       " 'min_samples_split': 2,\n",
       " 'min_weight_fraction_leaf': 0.0,\n",
       " 'n_estimators': 100,\n",
       " 'n_jobs': None,\n",
       " 'oob_score': False,\n",
       " 'random_state': 1,\n",
       " 'verbose': 0,\n",
       " 'warm_start': False}"
      ]
     },
     "execution_count": 16,
     "metadata": {},
     "output_type": "execute_result"
    }
   ],
   "source": [
    "RF = RandomForestClassifier(criterion = \"gini\", random_state = 1) \n",
    "RF.get_params()  # list the hyperparameters that are available to me to tune"
   ]
  },
  {
   "cell_type": "markdown",
   "metadata": {},
   "source": [
    "The most accurate method would be to grid search the space of hyperparameters exhaustively. For each combination of hyperparameters, I would do a k-fold cross validation (CV), which is a robust method of evaluating a model, since it averages over the particular choice of training data.\n",
    "\n",
    "However the main drawback of this approach is computation time, which is long due to the 3.6M data points and given the computational power available to me. \n",
    "\n",
    "Currently, a single random forest is taking ~30 seconds to calculate for a relatively low 10 trees of max depth 10. If I were to grid search 16 parameters, with 10-fold CV, I could expect it to take at *least* 1hr20, but more like 2hrs if I increase the number of trees or the max tree depth.\n",
    "\n",
    "#### OOB Evaluation for Hyperparameter Tuning a Random Forest\n",
    "\n",
    "Fortunately, for random forest I can use an **OOB** (Out-Of-Bag) evaluation strategy. The OOB value is expected to approach the k-fold CV score as the data set becomes large, and be computationally more efficient. OOB uses the data that was not included in the bootstrapped training data set for a given tree as the test set.\n",
    "\n",
    "I believe using the OOB score is justified in this case as my goal at this stage is to optimise hyperparameters in a reasonable amount of time. k-fold CV is typically more effective on smaller datasets - since our dataset is large, I wouldn't expect much improvement when using it anyways.\n",
    "\n",
    "A further benefit is that bootstrapping the data introduces further randomness, reducing the risk of overfitting the model. The large dataset should also help prevent overfitting.\n",
    "\n",
    "#### Search Strategy\n",
    "\n",
    "Rather than using a brute-force grid search strategy to assess all combinations of all hyperparameters (which is computationally expensive), I will do a more targeted search:\n",
    "1. I will choose a few of the most important Random Forest hyperparameters\n",
    "2. I will assume they can be optimised independently\n",
    "3. I will grid search a single hyperparameter at a time, choosing the others to yield quick computation time.\n",
    "4. When all have been searched I will set all to optimum and I will then retrain the final model\n",
    "5. I will test the finalised model on the unseen holdout set.\n"
   ]
  },
  {
   "cell_type": "markdown",
   "metadata": {},
   "source": [
    "Inconveniently, there does not seem to be the sklearn functionality to use OOB_score to tune hyperparameters (you can use k-fold CV instead). Therefore I need to write my own function.\n",
    "\n"
   ]
  },
  {
   "cell_type": "code",
   "execution_count": 17,
   "metadata": {},
   "outputs": [
    {
     "data": {
      "image/png": "[encoded data removed]",
      "text/plain": [
       "<Figure size 432x288 with 1 Axes>"
      ]
     },
     "metadata": {
      "needs_background": "light"
     },
     "output_type": "display_data"
    }
   ],
   "source": [
    "def OOB_hyperparameter_grid(d, hyperparameter = \"max_len\"):\n",
    "    \"\"\"\n",
    "    Function to do a grid search at specified values of a singel hyperparameter\n",
    "    ---\n",
    "    Inputs:\n",
    "        - d: a dictionary of the 5 hyperparameters of interest. The fixed hyperparameters are specified as list of length 1\n",
    "             the hyperparameter we are varying is of arbitrary length\n",
    "        - hyperparameter: the argument name of the hyperparameter to vary as a string\n",
    "    ---\n",
    "    Outputs:\n",
    "        - A plot of the model OOB accuracy score as a function of the varying hyperparameter.\n",
    "          the accuracy measured on the training set is also returned.\n",
    "    \"\"\"\n",
    "    \n",
    "    maxlen = max(len(item) for item in d.values())\n",
    "    for k, v in d.items():   # This loop is to check which is the hyperparameter to vary (longest length list)\n",
    "        if len(v) < maxlen:  # then set other lists to this length.\n",
    "            d[k] = v * maxlen\n",
    "\n",
    "    train_accuracy_list = []\n",
    "    OOB_list = []\n",
    "    \n",
    "    # Need to loop over the hyperparameter and evaluate model at each value specified\n",
    "    for i in range(maxlen):\n",
    "        model = RandomForestClassifier(n_estimators = d[\"n_estimators\"][i], \n",
    "                                       max_depth = d[\"max_depth\"][i], \n",
    "                                       min_samples_leaf = d[\"min_samples_leaf\"][i], \n",
    "                                       min_samples_split = d[\"min_samples_split\"][i], \n",
    "                                       max_features = d[\"max_features\"][i],\n",
    "                                       criterion = \"gini\",\n",
    "                                       random_state = 1,\n",
    "                                       oob_score = True)\n",
    "        \n",
    "        # fit the model and make predictions.\n",
    "        model.fit(X_train, y_train)\n",
    "\n",
    "        y_train_pred = model.predict(X_train)\n",
    "        train_accuracy = accuracy_score(y_train_pred, y_train)\n",
    "        train_accuracy_list.append(train_accuracy)\n",
    "        OOB_list.append(model.oob_score_)\n",
    "        \n",
    "    # Plot the results:\n",
    "    plt.plot(d[hyperparameter], OOB_list, marker='o', label='OOB')\n",
    "    plt.plot(d[hyperparameter], train_accuracy_list, marker='o', label='train fit')\n",
    "    plt.xlabel(hyperparameter)\n",
    "    plt.ylabel(\"evaluation score\")\n",
    "    plt.legend()\n",
    "    plt.show()\n",
    "\n",
    "# Plot OOB score as function of n_estimators\n",
    "d = {\"n_estimators\":[1, 3, 5, 10, 20, 30], \"max_depth\":[10], \"min_samples_leaf\":[1], \"min_samples_split\":[2], \"max_features\":[4]}\n",
    "OOB_hyperparameter_grid(d, hyperparameter = \"n_estimators\")\n",
    "\n",
    "\n",
    "\n"
   ]
  },
  {
   "cell_type": "code",
   "execution_count": 18,
   "metadata": {},
   "outputs": [
    {
     "data": {
      "image/png": "[encoded data removed]",
      "text/plain": [
       "<Figure size 432x288 with 1 Axes>"
      ]
     },
     "metadata": {
      "needs_background": "light"
     },
     "output_type": "display_data"
    },
    {
     "data": {
      "image/png": "[encoded data removed]",
      "text/plain": [
       "<Figure size 432x288 with 1 Axes>"
      ]
     },
     "metadata": {
      "needs_background": "light"
     },
     "output_type": "display_data"
    },
    {
     "data": {
      "image/png": "[encoded data removed]",
      "text/plain": [
       "<Figure size 432x288 with 1 Axes>"
      ]
     },
     "metadata": {
      "needs_background": "light"
     },
     "output_type": "display_data"
    },
    {
     "data": {
      "image/png": "[encoded data removed]",
      "text/plain": [
       "<Figure size 432x288 with 1 Axes>"
      ]
     },
     "metadata": {
      "needs_background": "light"
     },
     "output_type": "display_data"
    }
   ],
   "source": [
    "# Plot OOB score as function of max_features\n",
    "d = {\"n_estimators\":[10], \"max_depth\":[10], \"min_samples_leaf\":[1], \"min_samples_split\":[2], \"max_features\":[3, 5, 7, 9]}\n",
    "OOB_hyperparameter_grid(d, hyperparameter = \"max_features\")\n",
    "\n",
    "# Plot OOB score as function of max_depth\n",
    "d = {\"n_estimators\":[10], \"max_depth\":[1, 3, 5, 10, 15, 20, 30, 50], \"min_samples_leaf\":[1], \"min_samples_split\":[2], \"max_features\":[4]}\n",
    "OOB_hyperparameter_grid(d, hyperparameter = \"max_depth\")\n",
    "\n",
    "# Plot OOB score as function of min_samples_leaf\n",
    "d = {\"n_estimators\":[10], \"max_depth\":[10], \"min_samples_leaf\":[0.05, 0.1, 0.20, 0.40], \"min_samples_split\":[2], \"max_features\":[4]}\n",
    "OOB_hyperparameter_grid(d, hyperparameter = \"min_samples_leaf\")\n",
    "\n",
    "# Plot OOB score as function of min_samples_split\n",
    "d = {\"n_estimators\":[10], \"max_depth\":[10], \"min_samples_leaf\":[1], \"min_samples_split\":[0.05, 0.1, 0.2, 0.4, 0.6, 0.8], \"max_features\":[4]}\n",
    "OOB_hyperparameter_grid(d, hyperparameter = \"min_samples_split\")"
   ]
  },
  {
   "cell_type": "markdown",
   "metadata": {},
   "source": [
    "#### 5.c Finalised Model\n",
    "\n",
    "The above results show that:\n",
    "* Improvement levels off at ~10 estimators.\n",
    "* Improvement saturates at a max_depth of ~30. I think the model is just starting to overfit (no firther improvement on holdout set), but 30 seems reasonable.\n",
    "* min_samples_leaf and min_samples_split should both be set to their lowest values (done by default).\n",
    "* n_features has little impact on the outcome. I'll prefer to keep it low therefore to speed computation and to mitigate overfitting.\n",
    "\n",
    "The finalised model will use the optimal hyperparameters as defined below:"
   ]
  },
  {
   "cell_type": "code",
   "execution_count": 19,
   "metadata": {},
   "outputs": [
    {
     "name": "stdout",
     "output_type": "stream",
     "text": [
      "[[642801  20900]\n",
      " [ 12989 411008]]\n",
      "The accuracy is 0.9688433738041258\n",
      "The recall is 0.9693653492831317\n",
      "The precision is 0.9516100651064578\n"
     ]
    }
   ],
   "source": [
    "# Train the model on the training dataset with optimal hyperparameters\n",
    "final_model = RandomForestClassifier(n_estimators = 20, \n",
    "                                     max_depth = 30, \n",
    "                                     min_samples_split = 2,\n",
    "                                     min_samples_leaf = 1,\n",
    "                                     criterion=\"gini\", oob_score=True, random_state=1)\n",
    "final_model.fit(X_train, y_train)\n",
    "\n",
    "# Use the model to predict the holdout set and get accuracy scores.\n",
    "y_predict_holdout = final_model.predict(X_holdout)\n",
    "\n",
    "print_classifier_scores(y_predict_holdout, y_holdout)"
   ]
  },
  {
   "cell_type": "markdown",
   "metadata": {},
   "source": [
    "The final model yields an accuracy on the unseen holdout set of **97%**. \n",
    "\n",
    "This is fairly good. Further tuning or a different model could yield improved results (see conclusion)."
   ]
  },
  {
   "cell_type": "markdown",
   "metadata": {},
   "source": [
    "### 6. Pipeline Construction\n",
    "JojaMart wants me to construct a data pipeline for my model so that it can be attached to their data engineers' pipelines.\n",
    "\n",
    "Since I don't know exactly the shape of JojaMart's data flow, I will construct a basic pipeline here wrapped in a function:"
   ]
  },
  {
   "cell_type": "code",
   "execution_count": 20,
   "metadata": {},
   "outputs": [
    {
     "name": "stdout",
     "output_type": "stream",
     "text": [
      "  Discontinued Prediction\n",
      "0                   False\n"
     ]
    }
   ],
   "source": [
    "# Bundle the pipeline in a function for ease of use\n",
    "\n",
    "def preprocess(df_catalogue_discontinuation, df_product_details):\n",
    "    \"\"\"\n",
    "    The various preprocessing steps were distributed over many code cells above. For clarity, \n",
    "    I've copied them here in a single function.\n",
    "    In a real situation, there would be more preprocessing steps such as dealing with missing data.\n",
    "    ---\n",
    "    Inputs: \n",
    "        - df_catalogue_discontinuation:  dataframe of catalogue_discontinuation of the same type as provided in exercise.\n",
    "        - df_product_details: dataframe for product_details of the same type as provided in exercise.\n",
    "    Outputs:\n",
    "        - A single dataframe with correct encoding for use by the model.\n",
    "    \"\"\"\n",
    "    df = pd.merge(df_catalogue_discontinuation, df_product_details, how=\"inner\", on=\"ProductKey\")\n",
    "    \n",
    "    transformation_cols = {\"DiscontinuedTF\":[True, False],   # These are to be substituted with [1, 0]\n",
    "                           \"SpringSummer\":[True, False], \n",
    "                           \"Seasonal\":[True, False], \n",
    "                           \"Status\":[\"RI\", \"RO\"], \n",
    "                           \"DIorDOM\":[\"DI\", \"DOM\"],\n",
    "                          }\n",
    "\n",
    "    for key, value in transformation_cols.items():\n",
    "        df[key] = df[key].replace(value, [1,0])\n",
    "    \n",
    "    df = df.drop([\"CatEdition\"], axis = 1)\n",
    "\n",
    "    if \"DiscontinuedTF\" in df:\n",
    "        df = df.drop([\"DiscontinuedTF\"], axis=1)  # Future data wouldn't have the DiscontinuedTF column. Drop it in case it\n",
    "                                                  # presents is included.\n",
    "    return df\n",
    "    \n",
    "def pipeline(df_catalogue_discontinuation, df_product_details):\n",
    "    \"\"\"\n",
    "    Pipeline for predicting expected discontinuation of an object given its feature data.\n",
    "    ---\n",
    "    Inputs: \n",
    "        - df_catalogue_discontinuation:  dataframe of catalogue_discontinuation of the same type as provided in exercise.\n",
    "        - df_product_details: dataframe for product_details of the same type as provided in exercise.\n",
    "    ---\n",
    "    Returns:\n",
    "        - Expected True / False value for if an given product will be discontinued or not.\n",
    "    \n",
    "    \"\"\"\n",
    "    x_processed = preprocess(df_catalogue_discontinuation, df_product_details)\n",
    "    prediction = final_model.predict(x_processed)\n",
    "    prediction_df = pd.DataFrame(prediction, columns=[\"Discontinued Prediction\"])\n",
    "    \n",
    "    # Convert 0 / 1 returned by model back to True / False to be consistent with data file.\n",
    "    prediction_df[\"Discontinued Prediction\"] = prediction_df[\"Discontinued Prediction\"].replace([1, 0], [True, False])  \n",
    "\n",
    "   \n",
    "    return(prediction_df)\n",
    "\n",
    "\n",
    "# Test the pipeline:\n",
    "\n",
    "# An example new product that I made up in the 99th catalogue \n",
    "example_cat_disc = pd.DataFrame([[99, True, 20000, -10, \"RI\", 1000.00, 100, 80, True]], \n",
    "                                columns = [\"CatEdition\", \"SpringSummer\", \"ProductKey\", \"WeeksOut\", \"Status\", \\\n",
    "                                           \"SalePriceIncVAT\", \"ForecastPerWeek\", \"ActualsPerWeek\", \"DiscontinuedTF\"])\n",
    "\n",
    "# The example product details for this product\n",
    "example_prod_det = pd.DataFrame([[20000, 1, 300, 20, \"DI\", True]], \n",
    "                                columns = [\"ProductKey\", \"Supplier\", \"HierarchyLevel1\", \"HierarchyLevel2\", \\\n",
    "                                           \"DIorDOM\", \"Seasonal\"])\n",
    "\n",
    "# Run the data through the pipeline\n",
    "example_result = pipeline(example_cat_disc, example_prod_det)\n",
    "#example_result = pipeline(catalogue_discontinuation, product_details) # test on the entire dataset (works!)\n",
    "\n",
    "# Print the result of the prediction for this product.\n",
    "print(example_result)\n",
    "    "
   ]
  },
  {
   "cell_type": "markdown",
   "metadata": {},
   "source": [
    "The above pipeline works as expected.\n",
    "\n",
    "### 7. Conclusion & Summary\n",
    "\n"
   ]
  },
  {
   "cell_type": "markdown",
   "metadata": {},
   "source": [
    "In this project for JojaMart, I trained a Random Forest model for binary classification.\n",
    "\n",
    "The model predicts which products will be discontinued in the next Range Refresh with an estimated accuracy score of **97%**, measured by testing on an unseen holdout dataset. \n",
    "\n",
    "To arrive at this result, I first performed EDA, and investigated the data supplied. Finding no missing data, I chose to train a relatively simple Logistic Regression model, which performed poorly on the prediction task (low ROC AUC score, etc).\n",
    "\n",
    "I therefore tried a more complex model. The initial result of the Random Forest was ~92% accuracy. This was a promising result, so I then optimised some hyperparameters of the model, which yielded the final accuracy of 97%.\n",
    "\n",
    "I packaged the trained model into a data pipeline for use by the data engineers.\n",
    "\n",
    "I think this is a good first result, but I am sure the prediction accuracy could be improved further:\n",
    "\n",
    "### Improvements to the Model:\n",
    "\n",
    "Ideas to yield a better accuracy include:\n",
    "\n",
    "* **Use of a different model**:\n",
    "    * Given the amount of data available (3.6M samples), I think a neural network (NN) could be trained. Cutting edge NN's can yield accuracies of >99%, which would be an improvement. I chose not to impement this approach, as a random forest is slightly more interpretable, and NN training requires considerable computational resources.\n",
    "\n",
    "* **Feature engineering**:\n",
    "    * I could go back to the preprocessing step and try some feature engineering, which may yield improved results.\n",
    "\n",
    "* **More data features**: a more informative model could be generated by using of a more complex dataset with more features. These new features could be selected by considering business considerations. For example:\n",
    "    *  Profit margins drive revenue: the cost price of items is not listed, so we were unable to capture revenue data.\n",
    "    *  Item size: This is important for inventory management and would likely affect the prediction.\n",
    "    *  Competitor information, e.g. competitor sales price\n",
    "    *  Weather: e.g. seasonal clothing sales could be affected by unseasonal weather\n",
    "\n",
    "### <span style=\"color:orange\">Find more of my work [here on GitHub](https://github.com/rvbrooks)!</span>"
   ]
  },
  {
   "cell_type": "code",
   "execution_count": null,
   "metadata": {},
   "outputs": [],
   "source": []
  }
 ],
 "metadata": {
  "kernelspec": {
   "display_name": "Python 3 (ipykernel)",
   "language": "python",
   "name": "python3"
  },
  "language_info": {
   "codemirror_mode": {
    "name": "ipython",
    "version": 3
   },
   "file_extension": ".py",
   "mimetype": "text/x-python",
   "name": "python",
   "nbconvert_exporter": "python",
   "pygments_lexer": "ipython3",
   "version": "3.8.5"
  }
 },
 "nbformat": 4,
 "nbformat_minor": 4
}
