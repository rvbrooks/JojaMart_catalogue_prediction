{
 "cells": [
  {
   "cell_type": "markdown",
   "metadata": {},
   "source": [
    "# JojaMart Catalogue Challenge (Notebook 1 of 2)\n",
    "\n",
    "### Challenge description\n",
    "\n",
    "JojaMart regularly updates its store catalogue every half year. Some products get discontinued. JojaMart wants to predict which products will be discontinued in advance, which will help it reduce inefficiencies in inventory management.\n",
    "\n",
    "JojaMart has challenged ME to do this for them!\n",
    "\n",
    "Using the past data on the catalogue updates provided by JojaMart's local Stardew Valley branch, how well can I predict which products they will choose to continue this time?\n",
    "\n",
    "### Summary of my solution\n",
    "\n",
    "In the following notebook, I develop a supervised machine learning model (Random Forest) which predicts which items JojaMart will discontinue with an **accuracy of 97%** when generalised to data in an unseen hold-out data set that was not used for model training.\n",
    "\n",
    "### Contents\n",
    "\n",
    "My solution is divided into 2 notebooks:\n",
    "\n",
    "1. Exploratory Data Analysis\n",
    "2. Model Selection and Training\n",
    "\n",
    "### Packages\n",
    "\n",
    "I will make use of the following publicly \n",
    "available free packages:\n",
    "\n",
    "* pandas - good for big data handling\n",
    "* numpy  - useful for linear algebra\n",
    "* matplotlib - plotting library\n",
    "* sklearn  -  good selection of supervised / unsupervised machine learning models\n",
    "* seaborn - advanced plotting of pandas dataframes\n"
   ]
  },
  {
   "cell_type": "markdown",
   "metadata": {},
   "source": [
    "### 2. Exporatory Data Analysis (EDA)\n",
    "\n",
    "Before working on the model, it is important to first understand the data that I will be working with.\n",
    "\n",
    "There are 2 important data files (plus a third which describes the column titles which I will not import)\n",
    "\n",
    "I will use Pandas to load the data from the .csv files into Pandas dataframes and explore the data:"
   ]
  },
  {
   "cell_type": "code",
   "execution_count": 1,
   "metadata": {},
   "outputs": [],
   "source": [
    "import pandas as pd\n",
    "import matplotlib.pyplot as plt\n",
    "import numpy as np\n",
    "import seaborn as sns\n",
    "\n",
    "catalogue_discontinuation = pd.read_csv(\"datasheet_1.csv\") \n",
    "product_details = pd.read_csv(\"datasheet_2.csv\")"
   ]
  },
  {
   "cell_type": "markdown",
   "metadata": {},
   "source": [
    "#### 2.a: Check for missing data / irregularities / duplicates"
   ]
  },
  {
   "cell_type": "code",
   "execution_count": 2,
   "metadata": {},
   "outputs": [
    {
     "name": "stdout",
     "output_type": "stream",
     "text": [
      "Index(['CatEdition', 'SpringSummer', 'ProductKey', 'WeeksOut', 'Status',\n",
      "       'SalePriceIncVAT', 'ForecastPerWeek', 'ActualsPerWeek',\n",
      "       'DiscontinuedTF'],\n",
      "      dtype='object')\n",
      "<class 'pandas.core.frame.DataFrame'>\n",
      "RangeIndex: 3625659 entries, 0 to 3625658\n",
      "Data columns (total 9 columns):\n",
      " #   Column           Dtype  \n",
      "---  ------           -----  \n",
      " 0   CatEdition       int64  \n",
      " 1   SpringSummer     bool   \n",
      " 2   ProductKey       int64  \n",
      " 3   WeeksOut         int64  \n",
      " 4   Status           object \n",
      " 5   SalePriceIncVAT  float64\n",
      " 6   ForecastPerWeek  float64\n",
      " 7   ActualsPerWeek   float64\n",
      " 8   DiscontinuedTF   bool   \n",
      "dtypes: bool(2), float64(3), int64(3), object(1)\n",
      "memory usage: 200.5+ MB\n",
      "None\n",
      "(3625659, 9)\n",
      "False\n"
     ]
    }
   ],
   "source": [
    "print(catalogue_discontinuation.columns)\n",
    "print(catalogue_discontinuation.info())\n",
    "print(catalogue_discontinuation.shape)\n",
    "print(catalogue_discontinuation.isnull().values.any())"
   ]
  },
  {
   "cell_type": "markdown",
   "metadata": {},
   "source": [
    "The catalogue_discontinuation dataframe contains 9 columns, with a range of data types (Boolean, float, etc).\n",
    "There are no null values, i.e. no missing data, so that is good. "
   ]
  },
  {
   "cell_type": "code",
   "execution_count": 3,
   "metadata": {},
   "outputs": [
    {
     "name": "stdout",
     "output_type": "stream",
     "text": [
      "Index(['ProductKey', 'Supplier', 'HierarchyLevel1', 'HierarchyLevel2',\n",
      "       'DIorDOM', 'Seasonal'],\n",
      "      dtype='object')\n",
      "<class 'pandas.core.frame.DataFrame'>\n",
      "RangeIndex: 77372 entries, 0 to 77371\n",
      "Data columns (total 6 columns):\n",
      " #   Column           Non-Null Count  Dtype \n",
      "---  ------           --------------  ----- \n",
      " 0   ProductKey       77372 non-null  int64 \n",
      " 1   Supplier         77372 non-null  int64 \n",
      " 2   HierarchyLevel1  77372 non-null  int64 \n",
      " 3   HierarchyLevel2  77372 non-null  int64 \n",
      " 4   DIorDOM          77372 non-null  object\n",
      " 5   Seasonal         77372 non-null  bool  \n",
      "dtypes: bool(1), int64(4), object(1)\n",
      "memory usage: 3.0+ MB\n",
      "None\n",
      "(77372, 6)\n"
     ]
    }
   ],
   "source": [
    "print(product_details.columns)\n",
    "print(product_details.info())\n",
    "print(product_details.shape)\n"
   ]
  },
  {
   "cell_type": "markdown",
   "metadata": {},
   "source": [
    "The product_details dataframe contains 6 columns, again with a mix of data types.\n",
    "There are no null values, i.e. no missing data, so that is good.\n",
    "\n",
    "Now I check if all the product keys in the product_details dataframe are unique:"
   ]
  },
  {
   "cell_type": "code",
   "execution_count": 4,
   "metadata": {},
   "outputs": [
    {
     "name": "stdout",
     "output_type": "stream",
     "text": [
      "True\n"
     ]
    }
   ],
   "source": [
    "# Check if all ProductKeys are unique:\n",
    "print(len(set(product_details[\"ProductKey\"])) == len(product_details[\"ProductKey\"]))"
   ]
  },
  {
   "cell_type": "markdown",
   "metadata": {},
   "source": [
    "Since the length of the ProductKey column is equal to the length of the set, this tells me there are **no duplicate entries**, which is good.\n",
    "\n",
    "Now checking the number of unique products in the ProductKey columns for each dataframe:"
   ]
  },
  {
   "cell_type": "code",
   "execution_count": 5,
   "metadata": {},
   "outputs": [
    {
     "name": "stdout",
     "output_type": "stream",
     "text": [
      "There are 70227 unique product keys in the catalogue_discontinuation dataframe.\n",
      "There are 77372 unique product keys in the product_details dataframe.\n"
     ]
    }
   ],
   "source": [
    "n1 = len(set(catalogue_discontinuation[\"ProductKey\"]))\n",
    "n2 = len(set(product_details[\"ProductKey\"]))\n",
    "\n",
    "print(\"There are {} unique product keys in the catalogue_discontinuation dataframe.\".format(n1))\n",
    "print(\"There are {} unique product keys in the product_details dataframe.\".format(n2))"
   ]
  },
  {
   "cell_type": "markdown",
   "metadata": {},
   "source": [
    "This is useful information to know, as I will now merge the dataframes. I note that there are ~7000 more products in the product_details table than the catalogue_discontinuation table.\n",
    "\n",
    "I will use Pandas a merge to join the dataframes on the ProductKey identifier column.\n",
    "\n",
    "I choose an inner join with catalogue_discontinuation as the left table. This will mean that products existing in product_details, but not in catalogue_discontinuation, will be discarded. This is acceptable, since if the product is not included in catalogue_discontinuation, it is not useful for training the model anyways."
   ]
  },
  {
   "cell_type": "code",
   "execution_count": 6,
   "metadata": {},
   "outputs": [
    {
     "name": "stdout",
     "output_type": "stream",
     "text": [
      "<class 'pandas.core.frame.DataFrame'>\n",
      "Int64Index: 3625659 entries, 0 to 3625658\n",
      "Data columns (total 14 columns):\n",
      " #   Column           Dtype  \n",
      "---  ------           -----  \n",
      " 0   CatEdition       int64  \n",
      " 1   SpringSummer     bool   \n",
      " 2   ProductKey       int64  \n",
      " 3   WeeksOut         int64  \n",
      " 4   Status           object \n",
      " 5   SalePriceIncVAT  float64\n",
      " 6   ForecastPerWeek  float64\n",
      " 7   ActualsPerWeek   float64\n",
      " 8   DiscontinuedTF   bool   \n",
      " 9   Supplier         int64  \n",
      " 10  HierarchyLevel1  int64  \n",
      " 11  HierarchyLevel2  int64  \n",
      " 12  DIorDOM          object \n",
      " 13  Seasonal         bool   \n",
      "dtypes: bool(3), float64(3), int64(6), object(2)\n",
      "memory usage: 342.3+ MB\n"
     ]
    },
    {
     "data": {
      "text/plain": [
       "False"
      ]
     },
     "execution_count": 6,
     "metadata": {},
     "output_type": "execute_result"
    }
   ],
   "source": [
    "df = pd.merge(catalogue_discontinuation, product_details, how=\"inner\", on=\"ProductKey\")\n",
    "df.info()\n",
    "df.shape\n",
    "df.isnull().values.any()"
   ]
  },
  {
   "cell_type": "markdown",
   "metadata": {},
   "source": [
    "In the new merged dataframe, there are no null values. This is very good - it tells me that the ProductKeys column of the product_details dataframe included *all* ProductIDs used in the catalogue_discontinuation dataframe. \n",
    "\n",
    "This means I do not need to worry about missing data. (Note that if I did, I would have to consider strategies such as discarding rows, or data imputation). \n",
    "\n",
    "\n",
    "#### 2.b Visual Exporation\n",
    "\n",
    "Now plot histograms of the numerical data to observe how it's distributed:"
   ]
  },
  {
   "cell_type": "code",
   "execution_count": 7,
   "metadata": {},
   "outputs": [
    {
     "data": {
      "image/png": "[encoded data removed]",
      "text/plain": [
       "<Figure size 432x288 with 1 Axes>"
      ]
     },
     "metadata": {
      "needs_background": "light"
     },
     "output_type": "display_data"
    },
    {
     "data": {
      "image/png": "[encoded data removed]",
      "text/plain": [
       "<Figure size 432x288 with 1 Axes>"
      ]
     },
     "metadata": {
      "needs_background": "light"
     },
     "output_type": "display_data"
    },
    {
     "data": {
      "image/png": "[encoded data removed]",
      "text/plain": [
       "<Figure size 432x288 with 1 Axes>"
      ]
     },
     "metadata": {
      "needs_background": "light"
     },
     "output_type": "display_data"
    },
    {
     "data": {
      "image/png": "[encoded data removed]",
      "text/plain": [
       "<Figure size 432x288 with 1 Axes>"
      ]
     },
     "metadata": {
      "needs_background": "light"
     },
     "output_type": "display_data"
    }
   ],
   "source": [
    "# Separate data into categorical and non-categorical data.\n",
    "categoricals = [\"SpringSummer\", \"Status\", \"DiscontinuedTF\", \"DIorDOM\", \"Seasonal\", \"ProductKey\", \"HierarchyLevel1\",\"HierarchyLevel2\"]\n",
    "continuous = [\"WeeksOut\", \"SalePriceIncVAT\", \"ForecastPerWeek\", \"ActualsPerWeek\"]\n",
    "\n",
    "for col in continuous:\n",
    "    plt.hist(df[col], bins = 100)\n",
    "    if col != \"WeeksOut\":\n",
    "        plt.semilogy()\n",
    "    plt.xlabel(col)\n",
    "    plt.ylabel(\"Occurences\")\n",
    "    plt.show()"
   ]
  },
  {
   "cell_type": "markdown",
   "metadata": {},
   "source": [
    "This is quite informative: \n",
    "* WeeksOut is in discrete timesteps as expected and they are roughly evenly distributed, which means I don't need to worry about the imbalance.\n",
    "* The prices follow what looks like an exponential distribution: makes sense - there will be far fewer expensive items.\n",
    "* Similarly for the sales figures. The ForecastPerWeek distribution has similar shape to the ActualsPerWeek, so it's probably worth checking for correlations.\n",
    "\n",
    "Checking for any correlations in the data:"
   ]
  },
  {
   "cell_type": "code",
   "execution_count": 8,
   "metadata": {},
   "outputs": [
    {
     "data": {
      "text/plain": [
       "<AxesSubplot:>"
      ]
     },
     "execution_count": 8,
     "metadata": {},
     "output_type": "execute_result"
    },
    {
     "data": {
      "image/png": "[encoded data removed]",
      "text/plain": [
       "<Figure size 432x288 with 2 Axes>"
      ]
     },
     "metadata": {
      "needs_background": "light"
     },
     "output_type": "display_data"
    }
   ],
   "source": [
    "sns.heatmap(df.corr())"
   ]
  },
  {
   "cell_type": "markdown",
   "metadata": {},
   "source": [
    "The data is largely uncorrelated, which is good. \n",
    "\n",
    "The main correlation is between ActualsPerWeek and ForecastPerWeek - this makes sense, as we expect our predictions to be somewhat near the data!\n",
    "\n",
    "There is also a strong correlation between Status and DiscontinuedTF. This is expected as Status is a predictor. I expect that Status will be a highly informative feature. I don't believe it is a case of data leakage, so I think it is acceptable to use it to train the data."
   ]
  },
  {
   "cell_type": "markdown",
   "metadata": {},
   "source": [
    "### 3. Feature Transformation\n",
    "\n",
    "I must first encode the categorical and boolean data numerically so that the model can interpret it.\n",
    "\n",
    "I need to one-hot encode the categorical variables as binary 0 or 1. \n",
    "The column features I will transform in this way are: \"SpringSummer\", \"Seasonal\", \"DiscontinuedTF\", \"DIorDOM\" and \"Status\".\n",
    "\n",
    "I will do this using pandas methods, since it makes it explicit what I am doing. (However I could use e.g. sklearn's OneHotEncoder class):"
   ]
  },
  {
   "cell_type": "code",
   "execution_count": 9,
   "metadata": {},
   "outputs": [],
   "source": [
    "df[\"DiscontinuedTF\"] = df[\"DiscontinuedTF\"].replace([True, False], [1, 0])   # don't use inplace=True as that's bad practice\n",
    "df[\"SpringSummer\"]   = df[\"SpringSummer\"].replace([True, False], [1, 0])     \n",
    "df[\"Seasonal\"]       = df[\"Seasonal\"].replace([True, False], [1, 0])\n",
    "df[\"Status\"]         = df[\"Status\"].replace(['RI', 'RO'], [1, 0])\n",
    "df[\"DIorDOM\"]        = df[\"DIorDOM\"].replace(['DI', 'DOM'], [1, 0])"
   ]
  },
  {
   "cell_type": "markdown",
   "metadata": {},
   "source": [
    "###  My expectations for which predictors will be important\n",
    "\n",
    "Here I'll briefly discuss how I think some of the feature variables are likely to impact the prediction of \"DiscontinuedTF\".\n",
    "\n",
    "* SpringSummer and Seasonal - I expect that seasonal products are very likely to predict discontinuation, since e.g. beachballs will be discontinued come Autumn.\n",
    "* Similarly, I expect ProductKey could be an important predictor, since it would also encode seasonality - the model will learn which products are repeatedly discontinued.\n",
    "* I expect that Status is a strong predictor of discontinuation, expecially when WeeksOut is closer to zero, as there is less likely to be a last minute change of Status. This is also suggested by the correlation matrix.\n",
    "* I expect CatEdition to have little effect - neglect this\n",
    "\n",
    "Rather than do feature selection now, I will test these beliefs later using a feature importance selection method.\n",
    "\n",
    "\n",
    "### Model Selection and Training is discussed in notebook 2 in the repository."
   ]
  }
 ],
 "metadata": {
  "kernelspec": {
   "display_name": "Python 3 (ipykernel)",
   "language": "python",
   "name": "python3"
  },
  "language_info": {
   "codemirror_mode": {
    "name": "ipython",
    "version": 3
   },
   "file_extension": ".py",
   "mimetype": "text/x-python",
   "name": "python",
   "nbconvert_exporter": "python",
   "pygments_lexer": "ipython3",
   "version": "3.8.5"
  }
 },
 "nbformat": 4,
 "nbformat_minor": 4
}
